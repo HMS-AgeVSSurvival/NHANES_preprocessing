{
 "cells": [
  {
   "cell_type": "code",
   "execution_count": 33,
   "metadata": {},
   "outputs": [],
   "source": [
    "import pandas as pd\n",
    "\n",
    "COLUMNS_TO_TAKE = {\"var\": \"variable\", \"var_desc\": \"variable_description\", \"category\": \"category\"}\n",
    "\n",
    "variable_description_raw = pd.read_csv(\"../fusion/data/VarDescription.csv\", usecols=COLUMNS_TO_TAKE).rename(columns=COLUMNS_TO_TAKE)\n",
    "variable_description = variable_description_raw.drop_duplicates().set_index(\"variable\")"
   ]
  },
  {
   "cell_type": "code",
   "execution_count": 70,
   "metadata": {},
   "outputs": [
    {
     "name": "stderr",
     "output_type": "stream",
     "text": [
      "  0%|          | 0/3 [00:00<?, ?it/s]/n/groups/patel/theo/NHANES_preprocessing/env_o2/lib/python3.7/site-packages/IPython/core/interactiveshell.py:3170: DtypeWarning: Columns (68,72,73,77,78,82,83,84,85,86,87,92,95,97,100,102,103,104,105,108,109,110,111,112,113,115,117) have mixed types.Specify dtype option on import or set low_memory=False.\n",
      "  interactivity=interactivity, compiler=compiler, result=result)\n",
      "  0%|          | 0/3 [00:02<?, ?it/s]\n"
     ]
    }
   ],
   "source": [
    "import os \n",
    "from tqdm import tqdm\n",
    "\n",
    "for main_category in tqdm([\"examination\", \"laboratory\", \"demographics\"]):\n",
    "    missing_entire_files = {}\n",
    "    list_missing_variables_description = []\n",
    "    for idx, file in enumerate(os.listdir(f\"../extraction/data/{main_category}/\")):\n",
    "        if file[-4:] == \".csv\":\n",
    "            variables = pd.read_csv(f\"../extraction/data/{main_category}/{file}\").columns.drop([\"SEQN\", \"file_name\", \"cycle\", \"begin_year\", \"end_year\"])\n",
    "\n",
    "            missing_variables = variables[~variables.isin(variable_description.index)]\n",
    "\n",
    "            if len(missing_variables) == len(variables):\n",
    "                missing_entire_files[file] = variables.tolist()\n",
    "            elif len(missing_variables) > 0:\n",
    "                list_missing_variables_description.append(dict(zip(missing_variables.tolist(), [file] * len(missing_variables))))\n",
    "        \n",
    "        if idx > 10:\n",
    "            break\n",
    "    break\n",
    "\n",
    "missing_variables_description = {k: v for missing_variables_description in list_missing_variables_description for k, v in missing_variables_description.items()}"
   ]
  },
  {
   "cell_type": "code",
   "execution_count": 43,
   "metadata": {},
   "outputs": [],
   "source": [
    "\n",
    "import json\n",
    "with open(f\"../fusion/splitting/missing_classification.json\", \"w\") as outfile:\n",
    "    json.dump(missing_description.loc[missing_list].to_dict(\"index\"), outfile)"
   ]
  }
 ],
 "metadata": {
  "kernelspec": {
   "display_name": "Python 3",
   "language": "python",
   "name": "python3"
  },
  "language_info": {
   "codemirror_mode": {
    "name": "ipython",
    "version": 3
   },
   "file_extension": ".py",
   "mimetype": "text/x-python",
   "name": "python",
   "nbconvert_exporter": "python",
   "pygments_lexer": "ipython3",
   "version": "3.7.4"
  },
  "metadata": {
   "interpreter": {
    "hash": "953afe9870bc99ca7aef950db8477537548ea8293469d81f2e61a996bc292012"
   }
  },
  "orig_nbformat": 3
 },
 "nbformat": 4,
 "nbformat_minor": 2
}