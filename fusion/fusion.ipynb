{
 "cells": [
  {
   "cell_type": "code",
   "execution_count": 1,
   "metadata": {},
   "outputs": [],
   "source": [
    "import pandas as pd\n",
    "from tqdm import tqdm\n",
    "import json\n",
    "\n",
    "DEMOGRAPHICS_TO_KEEP = [\"SEQN\", \"SDDSRVYR\", \"RIAGENDR\", \"RIDAGEYR\", \"RIDAGEMN\", \"RIDAGEEX\", \"RIDRETH1\", \"DMDBORN2\", \"DMDMARTL\", \"DMDHHSIZ\", \"DMDFMSIZ\", \"INDHHIN2\", \"INDFMIN2\", ]\n",
    "\n",
    "with open(\"splitting/split_examination.json\") as json_file:\n",
    "    splitting_examination = json.load(json_file)\n",
    "\n",
    "files_examination = pd.read_feather(\"../extraction/raw_data/files_examination.feather\")\n",
    "\n",
    "# Drop P_BMX and P_OHXDEN and P_OHXREF: files not accessible and covered by order files name\n",
    "files_examination.drop(index=files_examination.index[files_examination[\"data_file_name\"].isna() | files_examination[\"data_file_name\"].isin([\"P_BMX\", \"P_OHXDEN\", \"P_OHXREF\"])], inplace=True)\n",
    "\n",
    "files_examination.set_index(\"data_file_description\", inplace=True)"
   ]
  },
  {
   "cell_type": "code",
   "execution_count": 2,
   "metadata": {},
   "outputs": [
    {
     "name": "stderr",
     "output_type": "stream",
     "text": [
      "  9%|▉         | 3/32 [00:00<00:01, 24.61it/s]"
     ]
    },
    {
     "name": "stdout",
     "output_type": "stream",
     "text": [
      "nose_mouth\n"
     ]
    },
    {
     "name": "stderr",
     "output_type": "stream",
     "text": [
      " 38%|███▊      | 12/32 [00:02<00:05,  3.84it/s]/workspaces/NHANES_preprocessing/env_container/lib/python3.9/site-packages/IPython/core/interactiveshell.py:3169: DtypeWarning: Columns (92,94,97,102,104,108,109,110,111,113,114,115,116) have mixed types.Specify dtype option on import or set low_memory=False.\n",
      "  has_raised = await self.run_ast_nodes(code_ast.body, cell_name,\n",
      " 44%|████▍     | 14/32 [00:03<00:06,  2.73it/s]/workspaces/NHANES_preprocessing/env_container/lib/python3.9/site-packages/IPython/core/interactiveshell.py:3169: DtypeWarning: Columns (68,72,73,77,78,82,83,84,85,86,87,92,95,97,100,102,103,104,105,108,109,110,111,112,113,115,117) have mixed types.Specify dtype option on import or set low_memory=False.\n",
      "  has_raised = await self.run_ast_nodes(code_ast.body, cell_name,\n",
      "100%|██████████| 32/32 [00:07<00:00,  4.15it/s]\n",
      "100%|██████████| 32/32 [00:11<00:00,  2.68it/s]\n"
     ]
    }
   ],
   "source": [
    "for category, data_file_description in splitting_examination.items():\n",
    "    if category in [\"body\", \"eyes\", \"ears\"]:\n",
    "        continue\n",
    "    print(category)\n",
    "    file_names = files_examination.loc[data_file_description, \"data_file_name\"].drop_duplicates()\n",
    "    min_seqn = float(\"inf\")\n",
    "    max_seqn = -float(\"inf\")\n",
    "\n",
    "    for file_name in tqdm(file_names):\n",
    "        raw_data = pd.read_csv(\"../extraction/raw_data/examination/\" + file_name + \".csv\")\n",
    "        \n",
    "        if \"SEQN\" not in raw_data.columns:\n",
    "            continue\n",
    "\n",
    "        if raw_data[\"SEQN\"].min() < min_seqn:\n",
    "            min_seqn = raw_data[\"SEQN\"].min()\n",
    "        if max_seqn < raw_data[\"SEQN\"].max():\n",
    "            max_seqn = raw_data[\"SEQN\"].max()\n",
    "    \n",
    "    data_category = pd.DataFrame(None, index=pd.Index(range(int(min_seqn), int(max_seqn) + 1), name=\"SEQN\"))\n",
    "    \n",
    "    for file_name in tqdm(file_names):\n",
    "        raw_data = pd.read_csv(\"../extraction/raw_data/examination/\" + file_name + \".csv\")\n",
    "\n",
    "        if \"SEQN\" not in raw_data.columns:\n",
    "            continue\n",
    "\n",
    "        raw_data.set_index(\"SEQN\", inplace=True)\n",
    "        raw_data.drop(columns=[\"file_name\", \"cycle\", \"begin_year\", \"end_year\"], inplace=True)\n",
    "\n",
    "        # object_columns = raw_data.columns[raw_data.dtypes == \"object\"]\n",
    "        # raw_data[object_columns] = raw_data[object_columns].astype(str, copy=False)\n",
    "    \n",
    "        data_category.loc[raw_data.index, raw_data.columns] = raw_data\n",
    "    \n",
    "\n",
    "    # data_category.dropna(how=\"all\").reset_index().to_feather(f\"fusionned_data/examination/{category}.feather\")\n",
    "    break"
   ]
  },
  {
   "cell_type": "code",
   "execution_count": 9,
   "metadata": {},
   "outputs": [],
   "source": [
    "data_category.dropna(how=\"all\")"
   ]
  },
  {
   "cell_type": "code",
   "execution_count": null,
   "metadata": {},
   "outputs": [
    {
     "ename": "Error",
     "evalue": "Kernel is dead",
     "output_type": "error",
     "traceback": [
      "Error: Kernel is dead",
      "at g._sendKernelShellControl (/home/developer/.vscode-server/extensions/ms-toolsai.jupyter-2021.6.832593372/out/client/extension.js:52:846419)",
      "at g.sendShellMessage (/home/developer/.vscode-server/extensions/ms-toolsai.jupyter-2021.6.832593372/out/client/extension.js:52:846188)",
      "at g.requestExecute (/home/developer/.vscode-server/extensions/ms-toolsai.jupyter-2021.6.832593372/out/client/extension.js:52:848730)",
      "at d.requestExecute (/home/developer/.vscode-server/extensions/ms-toolsai.jupyter-2021.6.832593372/out/client/extension.js:37:294720)",
      "at w.requestExecute (/home/developer/.vscode-server/extensions/ms-toolsai.jupyter-2021.6.832593372/out/client/extension.js:24:130554)",
      "at w.executeCodeCell (/home/developer/.vscode-server/extensions/ms-toolsai.jupyter-2021.6.832593372/out/client/extension.js:90:315950)",
      "at w.execute (/home/developer/.vscode-server/extensions/ms-toolsai.jupyter-2021.6.832593372/out/client/extension.js:90:315573)",
      "at w.start (/home/developer/.vscode-server/extensions/ms-toolsai.jupyter-2021.6.832593372/out/client/extension.js:90:311378)",
      "at async t.CellExecutionQueue.executeQueuedCells (/home/developer/.vscode-server/extensions/ms-toolsai.jupyter-2021.6.832593372/out/client/extension.js:90:325786)",
      "at async t.CellExecutionQueue.start (/home/developer/.vscode-server/extensions/ms-toolsai.jupyter-2021.6.832593372/out/client/extension.js:90:325326)"
     ]
    }
   ],
   "source": [
    "print(1)"
   ]
  }
 ],
 "metadata": {
  "kernelspec": {
   "display_name": "Python 3.9.4  ('env_container': venv)",
   "name": "pythonjvsc74a57bd00b5d788d1e9afc964e33ca04adec33b72bbb7783499bc34a79d528810448c4db"
  },
  "language_info": {
   "codemirror_mode": {
    "name": "ipython",
    "version": 3
   },
   "file_extension": ".py",
   "mimetype": "text/x-python",
   "name": "python",
   "nbconvert_exporter": "python",
   "pygments_lexer": "ipython3",
   "version": "3.9.4"
  },
  "metadata": {
   "interpreter": {
    "hash": "0b5d788d1e9afc964e33ca04adec33b72bbb7783499bc34a79d528810448c4db"
   }
  },
  "orig_nbformat": 3
 },
 "nbformat": 4,
 "nbformat_minor": 2
}