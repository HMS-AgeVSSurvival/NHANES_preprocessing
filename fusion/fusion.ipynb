{
 "cells": [
  {
   "cell_type": "code",
   "execution_count": 72,
   "metadata": {},
   "outputs": [],
   "source": [
    "import pandas as pd\n",
    "import numpy as np\n",
    "from tqdm import tqdm\n",
    "import json\n",
    "\n",
    "DEMOGRAPHICS_TO_KEEP = [\"SEQN\", \"SDDSRVYR\", \"RIAGENDR\", \"RIDAGEYR\", \"RIDAGEMN\", \"RIDAGEEX\", \"RIDRETH1\", \"DMDBORN2\", \"DMDMARTL\", \"DMDHHSIZ\", \"DMDFMSIZ\", \"INDHHIN2\", \"INDFMIN2\", ]\n",
    "\n",
    "with open(\"splitting/split_examination.json\") as json_file:\n",
    "    splitting_examination = json.load(json_file)\n",
    "\n",
    "files_examination = pd.read_feather(\"../extraction/raw_data/files_examination.feather\")\n",
    "\n",
    "\n",
    "# Drop P_BPXO: file not accessible and covered by order files name\n",
    "files_examination.drop(index=files_examination.index[files_examination[\"data_file_name\"].isna() | files_examination[\"data_file_name\"].isin([\"P_BPXO\"])], inplace=True)\n",
    "\n",
    "files_examination.set_index(\"data_file_description\", inplace=True)"
   ]
  },
  {
   "cell_type": "code",
   "execution_count": 83,
   "metadata": {},
   "outputs": [
    {
     "name": "stderr",
     "output_type": "stream",
     "text": [
      "100%|██████████| 1/1 [00:00<00:00, 21.64it/s]\n",
      "100%|██████████| 1/1 [00:00<00:00, 51.99it/s]"
     ]
    },
    {
     "name": "stdout",
     "output_type": "stream",
     "text": [
      "other\n"
     ]
    },
    {
     "name": "stderr",
     "output_type": "stream",
     "text": [
      "\n"
     ]
    }
   ],
   "source": [
    "for category, data_file_description in splitting_examination.items():\n",
    "    if category in [\"body\", \"eyes\", \"ears\", \"nose_mouth\", \"lungs\", \"heart\", \"liver\", \"bones\", \"nerves\", \"muscles\", \"skin\", \"physical_activity\"]:\n",
    "        continue\n",
    "    print(category)\n",
    "    file_names = files_examination.loc[data_file_description, \"data_file_name\"].drop_duplicates()\n",
    "    min_seqn = float(\"inf\")\n",
    "    max_seqn = -float(\"inf\")\n",
    "\n",
    "    for file_name in tqdm(file_names):\n",
    "        raw_data = pd.read_csv(\"../extraction/raw_data/examination/\" + file_name + \".csv\")\n",
    "        \n",
    "        if \"SEQN\" not in raw_data.columns:\n",
    "            continue\n",
    "\n",
    "        if raw_data[\"SEQN\"].min() < min_seqn:\n",
    "            min_seqn = raw_data[\"SEQN\"].min()\n",
    "        if max_seqn < raw_data[\"SEQN\"].max():\n",
    "            max_seqn = raw_data[\"SEQN\"].max()\n",
    "    \n",
    "    data_category = pd.DataFrame(None, index=pd.Index(range(int(min_seqn), int(max_seqn) + 1), name=\"SEQN\"))\n",
    "    \n",
    "    for file_name in tqdm(file_names):\n",
    "        raw_data = pd.read_csv(\"../extraction/raw_data/examination/\" + file_name + \".csv\")\n",
    "\n",
    "        if \"SEQN\" not in raw_data.columns:\n",
    "            continue\n",
    "\n",
    "        raw_data.set_index(\"SEQN\", inplace=True)\n",
    "        if \"SPXRAW\" not in file_name:  # Spirometry - Raw Curve Data does not contain extra columns\n",
    "            raw_data.drop(columns=[\"file_name\", \"cycle\", \"begin_year\", \"end_year\"], inplace=True)\n",
    "    \n",
    "        data_category.loc[raw_data.index, raw_data.columns] = raw_data\n",
    "\n",
    "    \n",
    "    object_columns = data_category.columns[data_category.dtypes == \"object\"]\n",
    "    data_category[object_columns] = data_category[object_columns].astype(str, copy=False)\n",
    "    \n",
    "    data_category.dropna(how=\"all\", inplace=True)\n",
    "    data_category.reset_index().to_feather(f\"fusionned_data/examination/{category}.feather\")\n",
    "    break"
   ]
  }
 ],
 "metadata": {
  "kernelspec": {
   "display_name": "Python 3",
   "language": "python",
   "name": "python3"
  },
  "language_info": {
   "codemirror_mode": {
    "name": "ipython",
    "version": 3
   },
   "file_extension": ".py",
   "mimetype": "text/x-python",
   "name": "python",
   "nbconvert_exporter": "python",
   "pygments_lexer": "ipython3",
   "version": "3.7.4"
  },
  "metadata": {
   "interpreter": {
    "hash": "0b5d788d1e9afc964e33ca04adec33b72bbb7783499bc34a79d528810448c4db"
   }
  },
  "orig_nbformat": 3
 },
 "nbformat": 4,
 "nbformat_minor": 2
}