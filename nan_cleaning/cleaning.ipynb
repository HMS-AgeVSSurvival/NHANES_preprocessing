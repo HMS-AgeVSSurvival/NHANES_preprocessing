{
 "cells": [
  {
   "cell_type": "code",
   "execution_count": 1,
   "metadata": {},
   "outputs": [],
   "source": [
    "import pandas as pd \n",
    "import numpy as np\n",
    "from tqdm import tqdm\n",
    "\n",
    "category = \"eyes\""
   ]
  },
  {
   "cell_type": "code",
   "execution_count": 2,
   "metadata": {},
   "outputs": [],
   "source": [
    "def optimal_function(data_frame):\n",
    "    return data_frame.shape[0] ** 2 * data_frame.shape[1]"
   ]
  },
  {
   "cell_type": "code",
   "execution_count": 3,
   "metadata": {},
   "outputs": [
    {
     "name": "stderr",
     "output_type": "stream",
     "text": [
      "100%|██████████| 4/4 [01:07<00:00, 16.94s/it]\n"
     ]
    }
   ],
   "source": [
    "data_category = pd.read_feather(f\"../fusion/fusionned_data/examination/{category}.feather\").set_index(\"SEQN\")\n",
    "raw_nan_matrix = data_category.isna()\n",
    "\n",
    "seqn_variable_trade_offs = np.logspace(0, 1, num=4)\n",
    "results_on_trade_off = []\n",
    "\n",
    "for seqn_variable_trade_off in tqdm(seqn_variable_trade_offs):\n",
    "    nan_matrix = raw_nan_matrix.copy()\n",
    "\n",
    "    while nan_matrix.sum().sum() > 0:\n",
    "        percentage_nan_per_variable = nan_matrix.sum() / nan_matrix.shape[0]\n",
    "        percentage_nan_per_seqn = nan_matrix.T.sum() / nan_matrix.shape[1]\n",
    "\n",
    "        max_percentage_nan_per_variable = percentage_nan_per_variable.max()\n",
    "        max_percentage_nan_per_seqn = percentage_nan_per_seqn.max()\n",
    "\n",
    "        if max_percentage_nan_per_seqn / max_percentage_nan_per_variable > seqn_variable_trade_off:\n",
    "            nan_matrix.drop(index=nan_matrix.index[percentage_nan_per_seqn == max_percentage_nan_per_seqn], inplace=True)\n",
    "        else:\n",
    "            nan_matrix.drop(columns=nan_matrix.columns[percentage_nan_per_variable == max_percentage_nan_per_variable], inplace=True)\n",
    "\n",
    "    cleaned_data_category = data_category.loc[nan_matrix.index, nan_matrix.columns]\n",
    "    cleaned_data_category.drop(columns=cleaned_data_category.columns[cleaned_data_category.std() == 0], inplace=True)\n",
    "    pri\n",
    "    results_on_trade_off.append(optimal_function(cleaned_data_category))"
   ]
  }
 ],
 "metadata": {
  "kernelspec": {
   "display_name": "Python 3",
   "language": "python",
   "name": "python3"
  },
  "language_info": {
   "codemirror_mode": {
    "name": "ipython",
    "version": 3
   },
   "file_extension": ".py",
   "mimetype": "text/x-python",
   "name": "python",
   "nbconvert_exporter": "python",
   "pygments_lexer": "ipython3",
   "version": "3.7.4"
  },
  "orig_nbformat": 2
 },
 "nbformat": 4,
 "nbformat_minor": 2
}