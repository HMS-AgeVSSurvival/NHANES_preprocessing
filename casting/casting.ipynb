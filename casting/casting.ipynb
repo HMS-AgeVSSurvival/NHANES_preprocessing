{
 "cells": [
  {
   "cell_type": "code",
   "execution_count": 2,
   "metadata": {},
   "outputs": [],
   "source": [
    "import numpy as np \n",
    "import pandas as pd\n",
    "\n",
    "category = \"lungs\""
   ]
  },
  {
   "cell_type": "code",
   "execution_count": 30,
   "metadata": {},
   "outputs": [],
   "source": [
    "data_category = pd.read_feather(f\"../cleaning/data/examination/{category}.feather\").set_index(\"SEQN\")"
   ]
  },
  {
   "cell_type": "code",
   "execution_count": 32,
   "metadata": {},
   "outputs": [],
   "source": [
    "columns_to_dummies = data_category.columns[data_category.dtypes == \"object\"]\n",
    "dummies = pd.get_dummies(data_category[columns_to_dummies], prefix=columns_to_dummies, drop_first=True, dtype=np.float32)\n",
    "data_category.drop(columns=columns_to_dummies, inplace=True)\n",
    "data_category[dummies.columns] = dummies\n",
    "data_category.astype(np.float32, copy=False)"
   ]
  },
  {
   "cell_type": "code",
   "execution_count": 34,
   "metadata": {},
   "outputs": [
    {
     "data": {
      "text/html": "<div>\n<style scoped>\n    .dataframe tbody tr th:only-of-type {\n        vertical-align: middle;\n    }\n\n    .dataframe tbody tr th {\n        vertical-align: top;\n    }\n\n    .dataframe thead th {\n        text-align: right;\n    }\n</style>\n<table border=\"1\" class=\"dataframe\">\n  <thead>\n    <tr style=\"text-align: right;\">\n      <th></th>\n      <th>ENQ090</th>\n      <th>ENQ100</th>\n      <th>ENAATMPT</th>\n      <th>ENXTR1G</th>\n      <th>ENXTR2G</th>\n      <th>ENXMEAN</th>\n      <th>SPQ020</th>\n      <th>SPQ040</th>\n      <th>SPQ060</th>\n      <th>SPXNSTAT</th>\n      <th>...</th>\n      <th>SPXNQFVC_B</th>\n      <th>SPXNQFVC_C</th>\n      <th>SPXNQFVC_D</th>\n      <th>SPXNQFVC_F</th>\n      <th>SPXNQFV1_B</th>\n      <th>SPXNQFV1_C</th>\n      <th>SPXNQFV1_D</th>\n      <th>SPXNQFV1_F</th>\n      <th>SPXNQEFF_B</th>\n      <th>SPXNQEFF_C</th>\n    </tr>\n    <tr>\n      <th>SEQN</th>\n      <th></th>\n      <th></th>\n      <th></th>\n      <th></th>\n      <th></th>\n      <th></th>\n      <th></th>\n      <th></th>\n      <th></th>\n      <th></th>\n      <th></th>\n      <th></th>\n      <th></th>\n      <th></th>\n      <th></th>\n      <th></th>\n      <th></th>\n      <th></th>\n      <th></th>\n      <th></th>\n      <th></th>\n    </tr>\n  </thead>\n  <tbody>\n    <tr>\n      <th>41475</th>\n      <td>2.0</td>\n      <td>1.0</td>\n      <td>3.0</td>\n      <td>1.0</td>\n      <td>1.0</td>\n      <td>8.0</td>\n      <td>2.0</td>\n      <td>1.0</td>\n      <td>2.0</td>\n      <td>1.0</td>\n      <td>...</td>\n      <td>0.0</td>\n      <td>0.0</td>\n      <td>0.0</td>\n      <td>0.0</td>\n      <td>0.0</td>\n      <td>0.0</td>\n      <td>0.0</td>\n      <td>0.0</td>\n      <td>0.0</td>\n      <td>0.0</td>\n    </tr>\n    <tr>\n      <th>41476</th>\n      <td>2.0</td>\n      <td>1.0</td>\n      <td>4.0</td>\n      <td>1.0</td>\n      <td>1.0</td>\n      <td>8.5</td>\n      <td>2.0</td>\n      <td>2.0</td>\n      <td>2.0</td>\n      <td>1.0</td>\n      <td>...</td>\n      <td>0.0</td>\n      <td>0.0</td>\n      <td>0.0</td>\n      <td>0.0</td>\n      <td>0.0</td>\n      <td>0.0</td>\n      <td>0.0</td>\n      <td>0.0</td>\n      <td>0.0</td>\n      <td>0.0</td>\n    </tr>\n    <tr>\n      <th>41479</th>\n      <td>2.0</td>\n      <td>2.0</td>\n      <td>4.0</td>\n      <td>1.0</td>\n      <td>1.0</td>\n      <td>16.0</td>\n      <td>2.0</td>\n      <td>2.0</td>\n      <td>2.0</td>\n      <td>1.0</td>\n      <td>...</td>\n      <td>0.0</td>\n      <td>0.0</td>\n      <td>0.0</td>\n      <td>0.0</td>\n      <td>0.0</td>\n      <td>0.0</td>\n      <td>0.0</td>\n      <td>0.0</td>\n      <td>0.0</td>\n      <td>0.0</td>\n    </tr>\n    <tr>\n      <th>41481</th>\n      <td>2.0</td>\n      <td>2.0</td>\n      <td>4.0</td>\n      <td>1.0</td>\n      <td>1.0</td>\n      <td>20.0</td>\n      <td>2.0</td>\n      <td>2.0</td>\n      <td>2.0</td>\n      <td>1.0</td>\n      <td>...</td>\n      <td>0.0</td>\n      <td>0.0</td>\n      <td>0.0</td>\n      <td>0.0</td>\n      <td>0.0</td>\n      <td>0.0</td>\n      <td>0.0</td>\n      <td>0.0</td>\n      <td>0.0</td>\n      <td>0.0</td>\n    </tr>\n    <tr>\n      <th>41483</th>\n      <td>2.0</td>\n      <td>2.0</td>\n      <td>4.0</td>\n      <td>1.0</td>\n      <td>1.0</td>\n      <td>15.5</td>\n      <td>2.0</td>\n      <td>2.0</td>\n      <td>2.0</td>\n      <td>1.0</td>\n      <td>...</td>\n      <td>1.0</td>\n      <td>0.0</td>\n      <td>0.0</td>\n      <td>0.0</td>\n      <td>0.0</td>\n      <td>0.0</td>\n      <td>0.0</td>\n      <td>0.0</td>\n      <td>0.0</td>\n      <td>0.0</td>\n    </tr>\n    <tr>\n      <th>...</th>\n      <td>...</td>\n      <td>...</td>\n      <td>...</td>\n      <td>...</td>\n      <td>...</td>\n      <td>...</td>\n      <td>...</td>\n      <td>...</td>\n      <td>...</td>\n      <td>...</td>\n      <td>...</td>\n      <td>...</td>\n      <td>...</td>\n      <td>...</td>\n      <td>...</td>\n      <td>...</td>\n      <td>...</td>\n      <td>...</td>\n      <td>...</td>\n      <td>...</td>\n      <td>...</td>\n    </tr>\n    <tr>\n      <th>71912</th>\n      <td>2.0</td>\n      <td>2.0</td>\n      <td>4.0</td>\n      <td>1.0</td>\n      <td>3.0</td>\n      <td>3.5</td>\n      <td>2.0</td>\n      <td>2.0</td>\n      <td>2.0</td>\n      <td>1.0</td>\n      <td>...</td>\n      <td>1.0</td>\n      <td>0.0</td>\n      <td>0.0</td>\n      <td>0.0</td>\n      <td>1.0</td>\n      <td>0.0</td>\n      <td>0.0</td>\n      <td>0.0</td>\n      <td>0.0</td>\n      <td>0.0</td>\n    </tr>\n    <tr>\n      <th>71913</th>\n      <td>2.0</td>\n      <td>2.0</td>\n      <td>2.0</td>\n      <td>1.0</td>\n      <td>1.0</td>\n      <td>7.0</td>\n      <td>2.0</td>\n      <td>2.0</td>\n      <td>2.0</td>\n      <td>1.0</td>\n      <td>...</td>\n      <td>0.0</td>\n      <td>0.0</td>\n      <td>0.0</td>\n      <td>0.0</td>\n      <td>1.0</td>\n      <td>0.0</td>\n      <td>0.0</td>\n      <td>0.0</td>\n      <td>0.0</td>\n      <td>0.0</td>\n    </tr>\n    <tr>\n      <th>71914</th>\n      <td>2.0</td>\n      <td>2.0</td>\n      <td>3.0</td>\n      <td>1.0</td>\n      <td>1.0</td>\n      <td>6.0</td>\n      <td>2.0</td>\n      <td>2.0</td>\n      <td>2.0</td>\n      <td>1.0</td>\n      <td>...</td>\n      <td>1.0</td>\n      <td>0.0</td>\n      <td>0.0</td>\n      <td>0.0</td>\n      <td>1.0</td>\n      <td>0.0</td>\n      <td>0.0</td>\n      <td>0.0</td>\n      <td>0.0</td>\n      <td>0.0</td>\n    </tr>\n    <tr>\n      <th>71915</th>\n      <td>2.0</td>\n      <td>1.0</td>\n      <td>2.0</td>\n      <td>1.0</td>\n      <td>1.0</td>\n      <td>18.0</td>\n      <td>2.0</td>\n      <td>1.0</td>\n      <td>2.0</td>\n      <td>1.0</td>\n      <td>...</td>\n      <td>1.0</td>\n      <td>0.0</td>\n      <td>0.0</td>\n      <td>0.0</td>\n      <td>1.0</td>\n      <td>0.0</td>\n      <td>0.0</td>\n      <td>0.0</td>\n      <td>0.0</td>\n      <td>0.0</td>\n    </tr>\n    <tr>\n      <th>71916</th>\n      <td>2.0</td>\n      <td>2.0</td>\n      <td>3.0</td>\n      <td>1.0</td>\n      <td>1.0</td>\n      <td>9.0</td>\n      <td>2.0</td>\n      <td>2.0</td>\n      <td>2.0</td>\n      <td>1.0</td>\n      <td>...</td>\n      <td>0.0</td>\n      <td>0.0</td>\n      <td>0.0</td>\n      <td>0.0</td>\n      <td>0.0</td>\n      <td>0.0</td>\n      <td>0.0</td>\n      <td>0.0</td>\n      <td>0.0</td>\n      <td>0.0</td>\n    </tr>\n  </tbody>\n</table>\n<p>18391 rows × 32 columns</p>\n</div>",
      "text/plain": "       ENQ090  ENQ100  ENAATMPT  ENXTR1G  ENXTR2G  ENXMEAN  SPQ020  SPQ040  \\\nSEQN                                                                         \n41475     2.0     1.0       3.0      1.0      1.0      8.0     2.0     1.0   \n41476     2.0     1.0       4.0      1.0      1.0      8.5     2.0     2.0   \n41479     2.0     2.0       4.0      1.0      1.0     16.0     2.0     2.0   \n41481     2.0     2.0       4.0      1.0      1.0     20.0     2.0     2.0   \n41483     2.0     2.0       4.0      1.0      1.0     15.5     2.0     2.0   \n...       ...     ...       ...      ...      ...      ...     ...     ...   \n71912     2.0     2.0       4.0      1.0      3.0      3.5     2.0     2.0   \n71913     2.0     2.0       2.0      1.0      1.0      7.0     2.0     2.0   \n71914     2.0     2.0       3.0      1.0      1.0      6.0     2.0     2.0   \n71915     2.0     1.0       2.0      1.0      1.0     18.0     2.0     1.0   \n71916     2.0     2.0       3.0      1.0      1.0      9.0     2.0     2.0   \n\n       SPQ060  SPXNSTAT  ...  SPXNQFVC_B  SPXNQFVC_C  SPXNQFVC_D  SPXNQFVC_F  \\\nSEQN                     ...                                                   \n41475     2.0       1.0  ...         0.0         0.0         0.0         0.0   \n41476     2.0       1.0  ...         0.0         0.0         0.0         0.0   \n41479     2.0       1.0  ...         0.0         0.0         0.0         0.0   \n41481     2.0       1.0  ...         0.0         0.0         0.0         0.0   \n41483     2.0       1.0  ...         1.0         0.0         0.0         0.0   \n...       ...       ...  ...         ...         ...         ...         ...   \n71912     2.0       1.0  ...         1.0         0.0         0.0         0.0   \n71913     2.0       1.0  ...         0.0         0.0         0.0         0.0   \n71914     2.0       1.0  ...         1.0         0.0         0.0         0.0   \n71915     2.0       1.0  ...         1.0         0.0         0.0         0.0   \n71916     2.0       1.0  ...         0.0         0.0         0.0         0.0   \n\n       SPXNQFV1_B  SPXNQFV1_C  SPXNQFV1_D  SPXNQFV1_F  SPXNQEFF_B  SPXNQEFF_C  \nSEQN                                                                           \n41475         0.0         0.0         0.0         0.0         0.0         0.0  \n41476         0.0         0.0         0.0         0.0         0.0         0.0  \n41479         0.0         0.0         0.0         0.0         0.0         0.0  \n41481         0.0         0.0         0.0         0.0         0.0         0.0  \n41483         0.0         0.0         0.0         0.0         0.0         0.0  \n...           ...         ...         ...         ...         ...         ...  \n71912         1.0         0.0         0.0         0.0         0.0         0.0  \n71913         1.0         0.0         0.0         0.0         0.0         0.0  \n71914         1.0         0.0         0.0         0.0         0.0         0.0  \n71915         1.0         0.0         0.0         0.0         0.0         0.0  \n71916         0.0         0.0         0.0         0.0         0.0         0.0  \n\n[18391 rows x 32 columns]"
     },
     "execution_count": 34,
     "metadata": {},
     "output_type": "execute_result"
    }
   ],
   "source": [
    "data_category.astype(np.float32, copy=False)"
   ]
  },
  {
   "cell_type": "code",
   "execution_count": null,
   "metadata": {},
   "outputs": [
    {
     "ename": "Error",
     "evalue": "Kernel is dead",
     "output_type": "error",
     "traceback": [
      "Error: Kernel is dead",
      "at f._sendKernelShellControl (/home/tv51/.vscode-server/extensions/ms-toolsai.jupyter-2021.6.832593372/out/client/node_modules/@jupyterlab/services.js:3:483250)",
      "at f.sendShellMessage (/home/tv51/.vscode-server/extensions/ms-toolsai.jupyter-2021.6.832593372/out/client/node_modules/@jupyterlab/services.js:3:483019)",
      "at f.requestExecute (/home/tv51/.vscode-server/extensions/ms-toolsai.jupyter-2021.6.832593372/out/client/node_modules/@jupyterlab/services.js:3:485571)",
      "at b.requestExecute (/home/tv51/.vscode-server/extensions/ms-toolsai.jupyter-2021.6.832593372/out/client/extension.js:24:130554)",
      "at w.executeCodeCell (/home/tv51/.vscode-server/extensions/ms-toolsai.jupyter-2021.6.832593372/out/client/extension.js:90:315950)",
      "at w.execute (/home/tv51/.vscode-server/extensions/ms-toolsai.jupyter-2021.6.832593372/out/client/extension.js:90:315573)",
      "at w.start (/home/tv51/.vscode-server/extensions/ms-toolsai.jupyter-2021.6.832593372/out/client/extension.js:90:311378)",
      "at async t.CellExecutionQueue.executeQueuedCells (/home/tv51/.vscode-server/extensions/ms-toolsai.jupyter-2021.6.832593372/out/client/extension.js:90:325786)",
      "at async t.CellExecutionQueue.start (/home/tv51/.vscode-server/extensions/ms-toolsai.jupyter-2021.6.832593372/out/client/extension.js:90:325326)"
     ]
    }
   ],
   "source": [
    "data_category.reset_index()"
   ]
  }
 ],
 "metadata": {
  "kernelspec": {
   "display_name": "Python 3",
   "name": "python3"
  },
  "language_info": {
   "codemirror_mode": {
    "name": "ipython",
    "version": 3
   },
   "file_extension": ".py",
   "mimetype": "text/x-python",
   "name": "python",
   "nbconvert_exporter": "python",
   "pygments_lexer": "ipython3",
   "version": "3.7.4"
  },
  "orig_nbformat": 2
 },
 "nbformat": 4,
 "nbformat_minor": 2
}