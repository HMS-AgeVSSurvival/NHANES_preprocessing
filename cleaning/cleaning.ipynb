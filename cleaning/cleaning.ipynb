{
 "cells": [
  {
   "cell_type": "code",
   "execution_count": null,
   "metadata": {},
   "outputs": [
    {
     "ename": "Error",
     "evalue": "Kernel is dead",
     "output_type": "error",
     "traceback": [
      "Error: Kernel is dead",
      "at f._sendKernelShellControl (/home/tv51/.vscode-server/extensions/ms-toolsai.jupyter-2021.6.832593372/out/client/node_modules/@jupyterlab/services.js:3:483250)",
      "at f.sendShellMessage (/home/tv51/.vscode-server/extensions/ms-toolsai.jupyter-2021.6.832593372/out/client/node_modules/@jupyterlab/services.js:3:483019)",
      "at f.requestExecute (/home/tv51/.vscode-server/extensions/ms-toolsai.jupyter-2021.6.832593372/out/client/node_modules/@jupyterlab/services.js:3:485571)",
      "at b.requestExecute (/home/tv51/.vscode-server/extensions/ms-toolsai.jupyter-2021.6.832593372/out/client/extension.js:24:130554)",
      "at w.executeCodeCell (/home/tv51/.vscode-server/extensions/ms-toolsai.jupyter-2021.6.832593372/out/client/extension.js:90:315950)",
      "at w.execute (/home/tv51/.vscode-server/extensions/ms-toolsai.jupyter-2021.6.832593372/out/client/extension.js:90:315573)",
      "at w.start (/home/tv51/.vscode-server/extensions/ms-toolsai.jupyter-2021.6.832593372/out/client/extension.js:90:311378)",
      "at async t.CellExecutionQueue.executeQueuedCells (/home/tv51/.vscode-server/extensions/ms-toolsai.jupyter-2021.6.832593372/out/client/extension.js:90:325786)",
      "at async t.CellExecutionQueue.start (/home/tv51/.vscode-server/extensions/ms-toolsai.jupyter-2021.6.832593372/out/client/extension.js:90:325326)"
     ]
    }
   ],
   "source": [
    "import pandas as pd \n",
    "import numpy as np\n",
    "from tqdm import tqdm\n",
    "\n",
    "category = \"lungs\"\n",
    "tradeoffs = [0.16237767391887217]"
   ]
  },
  {
   "cell_type": "code",
   "execution_count": 14,
   "metadata": {},
   "outputs": [],
   "source": [
    "def optimal_function(data_frame):\n",
    "    return data_frame.shape[0] ** 2 * data_frame.shape[1]"
   ]
  },
  {
   "cell_type": "code",
   "execution_count": 19,
   "metadata": {},
   "outputs": [],
   "source": [
    "def remove_nans(data_category, raw_nan_matrix, seqn_variable_trade_off):\n",
    "    nan_matrix = raw_nan_matrix.copy()\n",
    "\n",
    "    while nan_matrix.shape[0] * nan_matrix.shape[0] > 0 and nan_matrix.sum().sum() > 0:\n",
    "        percentage_nan_per_variable = nan_matrix.sum() / nan_matrix.shape[0]\n",
    "        percentage_nan_per_seqn = nan_matrix.T.sum() / nan_matrix.shape[1]\n",
    "\n",
    "        max_percentage_nan_per_variable = percentage_nan_per_variable.max()\n",
    "        max_percentage_nan_per_seqn = percentage_nan_per_seqn.max()\n",
    "\n",
    "        if max_percentage_nan_per_seqn / max_percentage_nan_per_variable > seqn_variable_trade_off:\n",
    "            nan_matrix.drop(index=nan_matrix.index[percentage_nan_per_seqn == max_percentage_nan_per_seqn], inplace=True)\n",
    "        else:\n",
    "            nan_matrix.drop(columns=nan_matrix.columns[percentage_nan_per_variable == max_percentage_nan_per_variable], inplace=True)\n",
    "\n",
    "    if nan_matrix.shape[0] * nan_matrix.shape[0] > 0:\n",
    "        cleaned_data_category = data_category.loc[nan_matrix.index, nan_matrix.columns]\n",
    "        \n",
    "        none_object_columns = cleaned_data_category.columns[cleaned_data_category.dtypes != \"object\"]\n",
    "        return cleaned_data_category.drop(columns=none_object_columns[cleaned_data_category[none_object_columns].std() == 0])\n",
    "    else:\n",
    "        return pd.DataFrame()"
   ]
  },
  {
   "cell_type": "code",
   "execution_count": 20,
   "metadata": {},
   "outputs": [
    {
     "name": "stderr",
     "output_type": "stream",
     "text": [
      "100%|██████████| 1/1 [00:00<00:00,  7.35it/s]"
     ]
    },
    {
     "name": "stdout",
     "output_type": "stream",
     "text": [
      "Initial shape: (9252, 13)\n",
      "Shape of the cleaned data for a trade-off of 0.16237767391887217: (448, 10)\n",
      "Final scores:\n",
      " [2007040]\n"
     ]
    },
    {
     "name": "stderr",
     "output_type": "stream",
     "text": [
      "\n"
     ]
    },
    {
     "ename": "FileNotFoundError",
     "evalue": "[Errno 2] No such file or directory: 'cleaning/data/examination/liver.feather'",
     "output_type": "error",
     "traceback": [
      "\u001b[0;31m---------------------------------------------------------------------------\u001b[0m",
      "\u001b[0;31mFileNotFoundError\u001b[0m                         Traceback (most recent call last)",
      "\u001b[0;32m<ipython-input-20-4dc7e98e0f3b>\u001b[0m in \u001b[0;36m<module>\u001b[0;34m\u001b[0m\n\u001b[1;32m     20\u001b[0m     \u001b[0mcleaned_data_category\u001b[0m \u001b[0;34m=\u001b[0m \u001b[0mremove_nans\u001b[0m\u001b[0;34m(\u001b[0m\u001b[0mdata_category\u001b[0m\u001b[0;34m,\u001b[0m \u001b[0mraw_nan_matrix\u001b[0m\u001b[0;34m,\u001b[0m \u001b[0mseqn_variable_trade_offs\u001b[0m\u001b[0;34m[\u001b[0m\u001b[0mnp\u001b[0m\u001b[0;34m.\u001b[0m\u001b[0margmax\u001b[0m\u001b[0;34m(\u001b[0m\u001b[0mresults_on_trade_off\u001b[0m\u001b[0;34m)\u001b[0m\u001b[0;34m]\u001b[0m\u001b[0;34m)\u001b[0m\u001b[0;34m\u001b[0m\u001b[0;34m\u001b[0m\u001b[0m\n\u001b[1;32m     21\u001b[0m \u001b[0;34m\u001b[0m\u001b[0m\n\u001b[0;32m---> 22\u001b[0;31m     \u001b[0mcleaned_data_category\u001b[0m\u001b[0;34m.\u001b[0m\u001b[0mreset_index\u001b[0m\u001b[0;34m(\u001b[0m\u001b[0;34m)\u001b[0m\u001b[0;34m.\u001b[0m\u001b[0mto_feather\u001b[0m\u001b[0;34m(\u001b[0m\u001b[0;34mf\"cleaning/data/examination/{category}.feather\"\u001b[0m\u001b[0;34m)\u001b[0m\u001b[0;34m\u001b[0m\u001b[0;34m\u001b[0m\u001b[0m\n\u001b[0m\u001b[1;32m     23\u001b[0m \u001b[0;32melse\u001b[0m\u001b[0;34m:\u001b[0m\u001b[0;34m\u001b[0m\u001b[0;34m\u001b[0m\u001b[0m\n\u001b[1;32m     24\u001b[0m     \u001b[0mprint\u001b[0m\u001b[0;34m(\u001b[0m\u001b[0;34m\"None of the preprocessing attempts worked...\"\u001b[0m\u001b[0;34m)\u001b[0m\u001b[0;34m\u001b[0m\u001b[0;34m\u001b[0m\u001b[0m\n",
      "\u001b[0;32m/n/groups/patel/theo/NHANES_preprocessing/env_o2/lib/python3.7/site-packages/pandas/util/_decorators.py\u001b[0m in \u001b[0;36mwrapper\u001b[0;34m(*args, **kwargs)\u001b[0m\n\u001b[1;32m    197\u001b[0m                 \u001b[0;32melse\u001b[0m\u001b[0;34m:\u001b[0m\u001b[0;34m\u001b[0m\u001b[0;34m\u001b[0m\u001b[0m\n\u001b[1;32m    198\u001b[0m                     \u001b[0mkwargs\u001b[0m\u001b[0;34m[\u001b[0m\u001b[0mnew_arg_name\u001b[0m\u001b[0;34m]\u001b[0m \u001b[0;34m=\u001b[0m \u001b[0mnew_arg_value\u001b[0m\u001b[0;34m\u001b[0m\u001b[0;34m\u001b[0m\u001b[0m\n\u001b[0;32m--> 199\u001b[0;31m             \u001b[0;32mreturn\u001b[0m \u001b[0mfunc\u001b[0m\u001b[0;34m(\u001b[0m\u001b[0;34m*\u001b[0m\u001b[0margs\u001b[0m\u001b[0;34m,\u001b[0m \u001b[0;34m**\u001b[0m\u001b[0mkwargs\u001b[0m\u001b[0;34m)\u001b[0m\u001b[0;34m\u001b[0m\u001b[0;34m\u001b[0m\u001b[0m\n\u001b[0m\u001b[1;32m    200\u001b[0m \u001b[0;34m\u001b[0m\u001b[0m\n\u001b[1;32m    201\u001b[0m         \u001b[0;32mreturn\u001b[0m \u001b[0mcast\u001b[0m\u001b[0;34m(\u001b[0m\u001b[0mF\u001b[0m\u001b[0;34m,\u001b[0m \u001b[0mwrapper\u001b[0m\u001b[0;34m)\u001b[0m\u001b[0;34m\u001b[0m\u001b[0;34m\u001b[0m\u001b[0m\n",
      "\u001b[0;32m/n/groups/patel/theo/NHANES_preprocessing/env_o2/lib/python3.7/site-packages/pandas/core/frame.py\u001b[0m in \u001b[0;36mto_feather\u001b[0;34m(self, path, **kwargs)\u001b[0m\n\u001b[1;32m   2289\u001b[0m         \u001b[0;32mfrom\u001b[0m \u001b[0mpandas\u001b[0m\u001b[0;34m.\u001b[0m\u001b[0mio\u001b[0m\u001b[0;34m.\u001b[0m\u001b[0mfeather_format\u001b[0m \u001b[0;32mimport\u001b[0m \u001b[0mto_feather\u001b[0m\u001b[0;34m\u001b[0m\u001b[0;34m\u001b[0m\u001b[0m\n\u001b[1;32m   2290\u001b[0m \u001b[0;34m\u001b[0m\u001b[0m\n\u001b[0;32m-> 2291\u001b[0;31m         \u001b[0mto_feather\u001b[0m\u001b[0;34m(\u001b[0m\u001b[0mself\u001b[0m\u001b[0;34m,\u001b[0m \u001b[0mpath\u001b[0m\u001b[0;34m,\u001b[0m \u001b[0;34m**\u001b[0m\u001b[0mkwargs\u001b[0m\u001b[0;34m)\u001b[0m\u001b[0;34m\u001b[0m\u001b[0;34m\u001b[0m\u001b[0m\n\u001b[0m\u001b[1;32m   2292\u001b[0m \u001b[0;34m\u001b[0m\u001b[0m\n\u001b[1;32m   2293\u001b[0m     @doc(\n",
      "\u001b[0;32m/n/groups/patel/theo/NHANES_preprocessing/env_o2/lib/python3.7/site-packages/pandas/io/feather_format.py\u001b[0m in \u001b[0;36mto_feather\u001b[0;34m(df, path, storage_options, **kwargs)\u001b[0m\n\u001b[1;32m     76\u001b[0m \u001b[0;34m\u001b[0m\u001b[0m\n\u001b[1;32m     77\u001b[0m     with get_handle(\n\u001b[0;32m---> 78\u001b[0;31m         \u001b[0mpath\u001b[0m\u001b[0;34m,\u001b[0m \u001b[0;34m\"wb\"\u001b[0m\u001b[0;34m,\u001b[0m \u001b[0mstorage_options\u001b[0m\u001b[0;34m=\u001b[0m\u001b[0mstorage_options\u001b[0m\u001b[0;34m,\u001b[0m \u001b[0mis_text\u001b[0m\u001b[0;34m=\u001b[0m\u001b[0;32mFalse\u001b[0m\u001b[0;34m\u001b[0m\u001b[0;34m\u001b[0m\u001b[0m\n\u001b[0m\u001b[1;32m     79\u001b[0m     ) as handles:\n\u001b[1;32m     80\u001b[0m         \u001b[0mfeather\u001b[0m\u001b[0;34m.\u001b[0m\u001b[0mwrite_feather\u001b[0m\u001b[0;34m(\u001b[0m\u001b[0mdf\u001b[0m\u001b[0;34m,\u001b[0m \u001b[0mhandles\u001b[0m\u001b[0;34m.\u001b[0m\u001b[0mhandle\u001b[0m\u001b[0;34m,\u001b[0m \u001b[0;34m**\u001b[0m\u001b[0mkwargs\u001b[0m\u001b[0;34m)\u001b[0m\u001b[0;34m\u001b[0m\u001b[0;34m\u001b[0m\u001b[0m\n",
      "\u001b[0;32m/n/groups/patel/theo/NHANES_preprocessing/env_o2/lib/python3.7/site-packages/pandas/io/common.py\u001b[0m in \u001b[0;36mget_handle\u001b[0;34m(path_or_buf, mode, encoding, compression, memory_map, is_text, errors, storage_options)\u001b[0m\n\u001b[1;32m    649\u001b[0m         \u001b[0;32melse\u001b[0m\u001b[0;34m:\u001b[0m\u001b[0;34m\u001b[0m\u001b[0;34m\u001b[0m\u001b[0m\n\u001b[1;32m    650\u001b[0m             \u001b[0;31m# Binary mode\u001b[0m\u001b[0;34m\u001b[0m\u001b[0;34m\u001b[0m\u001b[0;34m\u001b[0m\u001b[0m\n\u001b[0;32m--> 651\u001b[0;31m             \u001b[0mhandle\u001b[0m \u001b[0;34m=\u001b[0m \u001b[0mopen\u001b[0m\u001b[0;34m(\u001b[0m\u001b[0mhandle\u001b[0m\u001b[0;34m,\u001b[0m \u001b[0mioargs\u001b[0m\u001b[0;34m.\u001b[0m\u001b[0mmode\u001b[0m\u001b[0;34m)\u001b[0m\u001b[0;34m\u001b[0m\u001b[0;34m\u001b[0m\u001b[0m\n\u001b[0m\u001b[1;32m    652\u001b[0m         \u001b[0mhandles\u001b[0m\u001b[0;34m.\u001b[0m\u001b[0mappend\u001b[0m\u001b[0;34m(\u001b[0m\u001b[0mhandle\u001b[0m\u001b[0;34m)\u001b[0m\u001b[0;34m\u001b[0m\u001b[0;34m\u001b[0m\u001b[0m\n\u001b[1;32m    653\u001b[0m \u001b[0;34m\u001b[0m\u001b[0m\n",
      "\u001b[0;31mFileNotFoundError\u001b[0m: [Errno 2] No such file or directory: 'cleaning/data/examination/liver.feather'"
     ]
    }
   ],
   "source": [
    "data_category = pd.read_feather(f\"../fusion/data/examination/{category}.feather\").set_index(\"SEQN\")\n",
    "object_column =  data_category.columns[data_category.dtypes == \"object\"]\n",
    "raw_nan_matrix = data_category.isna()\n",
    "raw_nan_matrix[object_column] = (data_category[object_column] == str(np.nan)) | raw_nan_matrix[object_column]\n",
    "\n",
    "results_on_trade_off = []\n",
    "\n",
    "print(\"Initial shape:\", data_category.shape)\n",
    "\n",
    "for seqn_variable_trade_off in tqdm(tradeoffs):\n",
    "    cleaned_data_category = remove_nans(data_category, raw_nan_matrix, seqn_variable_trade_off)        \n",
    "    \n",
    "    print(f\"Shape of the cleaned data for a trade-off of {seqn_variable_trade_off}:\", cleaned_data_category.shape)\n",
    "\n",
    "    results_on_trade_off.append(optimal_function(cleaned_data_category))\n",
    "\n",
    "print(\"Final scores:\\n\", results_on_trade_off)\n",
    "\n",
    "if sum(results_on_trade_off) > 0:\n",
    "    cleaned_data_category = remove_nans(data_category, raw_nan_matrix, seqn_variable_trade_offs[np.argmax(results_on_trade_off)]) \n",
    "\n",
    "    # cleaned_data_category.reset_index().to_feather(f\"cleaning/data/examination/{category}.feather\")\n",
    "else:\n",
    "    print(\"None of the preprocessing attempts worked...\")       "
   ]
  }
 ],
 "metadata": {
  "kernelspec": {
   "display_name": "Python 3",
   "language": "python",
   "name": "python3"
  },
  "language_info": {
   "codemirror_mode": {
    "name": "ipython",
    "version": 3
   },
   "file_extension": ".py",
   "mimetype": "text/x-python",
   "name": "python",
   "nbconvert_exporter": "python",
   "pygments_lexer": "ipython3",
   "version": "3.7.4"
  },
  "orig_nbformat": 2
 },
 "nbformat": 4,
 "nbformat_minor": 2
}